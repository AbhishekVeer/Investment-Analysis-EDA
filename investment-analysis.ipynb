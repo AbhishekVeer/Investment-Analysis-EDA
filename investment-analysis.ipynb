{
 "cells": [
  {
   "cell_type": "code",
   "execution_count": null,
   "metadata": {
    "_cell_guid": "b1076dfc-b9ad-4769-8c92-a6c4dae69d19",
    "_uuid": "8f2839f25d086af736a60e9eeb907d3b93b6e0e5",
    "trusted": true
   },
   "outputs": [],
   "source": [
    "# This Python 3 environment comes with many helpful analytics libraries installed\n",
    "# It is defined by the kaggle/python Docker image: https://github.com/kaggle/docker-python\n",
    "# For example, here's several helpful packages to load\n",
    "\n",
    "import numpy as np # linear algebra\n",
    "import pandas as pd # data processing, CSV file I/O (e.g. pd.read_csv)\n",
    "\n",
    "# Input data files are available in the read-only \"../input/\" directory\n",
    "# For example, running this (by clicking run or pressing Shift+Enter) will list all files under the input directory\n",
    "\n",
    "import os\n",
    "for dirname, _, filenames in os.walk('/kaggle/input'):\n",
    "    for filename in filenames:\n",
    "        print(os.path.join(dirname, filename))\n",
    "\n",
    "# You can write up to 20GB to the current directory (/kaggle/working/) that gets preserved as output when you create a version using \"Save & Run All\" \n",
    "# You can also write temporary files to /kaggle/temp/, but they won't be saved outside of the current session"
   ]
  },
  {
   "cell_type": "code",
   "execution_count": null,
   "metadata": {
    "_cell_guid": "79c7e3d0-c299-4dcb-8224-4455121ee9b0",
    "_uuid": "d629ff2d2480ee46fbb7e2d37f6b5fab8052498a",
    "trusted": true
   },
   "outputs": [],
   "source": [
    "import os\n",
    "import re\n",
    "import warnings\n",
    "import numpy as np\n",
    "import pandas as pd\n",
    "import matplotlib.pyplot as plt\n",
    "import seaborn as sns\n",
    "sns.set(rc={'figure.figsize':(11.7,8.27)})"
   ]
  },
  {
   "cell_type": "code",
   "execution_count": null,
   "metadata": {
    "trusted": true
   },
   "outputs": [],
   "source": [
    "root_folder_path = \"/kaggle/input/spark-fund-investment-analysis/datasets/\"\n",
    "companies_path = os.path.join(root_folder_path,\"companies.txt\")\n",
    "rounds2_path = os.path.join(root_folder_path,\"rounds2.csv\")\n",
    "mapping_path = os.path.join(root_folder_path,\"mapping.csv\")\n",
    "investment_path =os.path.join(root_folder_path,\"Investments.xlsx\")"
   ]
  },
  {
   "cell_type": "markdown",
   "metadata": {},
   "source": [
    "___\n",
    "#  Checkpoint 1: Data cleaning 1\n",
    "___"
   ]
  },
  {
   "cell_type": "markdown",
   "metadata": {},
   "source": [
    "### 1.1 Load Companies and rounds2"
   ]
  },
  {
   "cell_type": "code",
   "execution_count": null,
   "metadata": {
    "trusted": true
   },
   "outputs": [],
   "source": [
    "companies = pd.read_csv(companies_path, sep='\\t', encoding=\"ISO-8859-1\")\n",
    "companies.head()"
   ]
  },
  {
   "cell_type": "code",
   "execution_count": null,
   "metadata": {
    "trusted": true
   },
   "outputs": [],
   "source": [
    "rounds2 = pd.read_csv(rounds2_path, encoding=\"ISO-8859-1\")\n",
    "rounds2.head()"
   ]
  },
  {
   "cell_type": "markdown",
   "metadata": {},
   "source": [
    "---\n",
    "**<font size = 4>Question 1. How many unique companies are present in rounds2?</font>**\n",
    "--"
   ]
  },
  {
   "cell_type": "markdown",
   "metadata": {},
   "source": [
    "**<ins>Approach</ins>**: Using nunique() function of Pandas DataFrame to get the unique values in each column of the dataframe. Also considering data analysis intricacies, unifying the case of the values of the column to lower case and then cross checking for unique values"
   ]
  },
  {
   "cell_type": "code",
   "execution_count": null,
   "metadata": {
    "trusted": true
   },
   "outputs": [],
   "source": [
    "rounds2.count()"
   ]
  },
  {
   "cell_type": "code",
   "execution_count": null,
   "metadata": {
    "trusted": true
   },
   "outputs": [],
   "source": [
    "rounds2.nunique()"
   ]
  },
  {
   "cell_type": "code",
   "execution_count": null,
   "metadata": {
    "trusted": true
   },
   "outputs": [],
   "source": [
    "len(rounds2['company_permalink'].str.lower().unique())\n",
    "#Nan"
   ]
  },
  {
   "cell_type": "code",
   "execution_count": null,
   "metadata": {
    "trusted": true
   },
   "outputs": [],
   "source": [
    "rounds2_lower = rounds2.copy()\n",
    "rounds2_lower['company_permalink'] =rounds2_lower['company_permalink'].str.lower()\n",
    "rounds2[rounds2_lower.duplicated(['company_permalink'],keep=False)].head()"
   ]
  },
  {
   "cell_type": "markdown",
   "metadata": {},
   "source": [
    "**<sup>Table 1.1 Case Sensitivity in comapny_permalink column of rounds2</sup>**"
   ]
  },
  {
   "cell_type": "code",
   "execution_count": null,
   "metadata": {
    "trusted": true
   },
   "outputs": [],
   "source": [
    "rounds2_lower.nunique()"
   ]
  },
  {
   "cell_type": "markdown",
   "metadata": {},
   "source": [
    "   "
   ]
  },
  {
   "cell_type": "markdown",
   "metadata": {},
   "source": [
    "**<ins><font size = 4>Solution</font></ins>**: \n",
    "---"
   ]
  },
  {
   "cell_type": "markdown",
   "metadata": {},
   "source": [
    "Data for **66,370** distinct companies is present in rounds2\n",
    "\n",
    "<font size = 2>Based on the attributes of rounds2, unique vaues in company_permalink (unique id of company) column gives us the unique companies in rounds 2.But as can be observed, initially nunique()'s output (90247) didn't match with lower case unique values of comapny_permalink. This was due to the presence of same values in different cases (refer to table 1.1). This maybe due to compilation of data from various sources with different format.</font>"
   ]
  },
  {
   "cell_type": "markdown",
   "metadata": {},
   "source": [
    "  "
   ]
  },
  {
   "cell_type": "markdown",
   "metadata": {},
   "source": [
    "---\n",
    "**<font size = 4>Question 2. How many unique companies are present in companies?</font>**\n",
    "--"
   ]
  },
  {
   "cell_type": "markdown",
   "metadata": {},
   "source": [
    "**<ins>Approach</ins>**: Using nunique() function of Pandas DataFrame to get the unique values in each column of the dataframe. Also considering data analysis intricacies, unifying the case of the values of the column to lower case and then cross checking for unique values"
   ]
  },
  {
   "cell_type": "code",
   "execution_count": null,
   "metadata": {
    "trusted": true
   },
   "outputs": [],
   "source": [
    "companies.nunique()"
   ]
  },
  {
   "cell_type": "code",
   "execution_count": null,
   "metadata": {
    "trusted": true
   },
   "outputs": [],
   "source": [
    "companies_lower = companies.copy()\n",
    "companies_lower['permalink'] =companies_lower['permalink'].str.lower()\n",
    "companies_lower['name'] =companies_lower['name'].str.lower()\n",
    "companies[companies.duplicated(['name'],keep=False)].head(7)"
   ]
  },
  {
   "cell_type": "markdown",
   "metadata": {},
   "source": [
    "**<sup>Table 1.2 Records with same company names but different permalink in companies</sup>**"
   ]
  },
  {
   "cell_type": "code",
   "execution_count": null,
   "metadata": {
    "trusted": true
   },
   "outputs": [],
   "source": [
    "companies_lower.nunique()"
   ]
  },
  {
   "cell_type": "markdown",
   "metadata": {},
   "source": [
    "  "
   ]
  },
  {
   "cell_type": "markdown",
   "metadata": {},
   "source": [
    "**<ins><font size = 4>Solution</font></ins>**: \n",
    "---"
   ]
  },
  {
   "cell_type": "markdown",
   "metadata": {},
   "source": [
    "Data for **66,367** distinct companies is present in companies based on the permalink(unique id)\n",
    "\n",
    "<font size = 2>Based on the attributes of rounds2, unique vaues in permalink (unique id of company) column gives us the unique companies in companies. Another interesting observation is the difference between the distinct permalink(66368) and distinct name of company (66037). Observing in detail we can see  records with same company names but different permalink in companies (refer Table 1.2). This can be due to the update in any of the company attribute which leads to creation of new permalink.For instance:\n",
    "1. Change in *status* from closed to operating( eg. company name = 3DIVAZ)\n",
    "2. Change in *homepage_url, category_list, state_code, region, city, founded_at* (eg. Agora)</font>"
   ]
  },
  {
   "cell_type": "markdown",
   "metadata": {},
   "source": [
    "   "
   ]
  },
  {
   "cell_type": "markdown",
   "metadata": {},
   "source": [
    "---\n",
    "**<font size = 4>Question 3. In the companies data frame, which column can be used as the unique key for each company? Write the name of the column.</font>**\n",
    "--"
   ]
  },
  {
   "cell_type": "markdown",
   "metadata": {},
   "source": [
    "**<ins>Approach</ins>**: Checking for the properties of primary key: \n",
    "\n",
    "                Check 1. Not Null\n",
    "\n",
    "                Check 2. Unique for all records\n",
    "\n",
    "\n",
    "Based on this, column/group of column which uniquesly identifies all rows and is present for all rows should be chosen as a primary key(unique key for each company) "
   ]
  },
  {
   "cell_type": "code",
   "execution_count": null,
   "metadata": {
    "trusted": true
   },
   "outputs": [],
   "source": [
    "# Check 1: \n",
    "# Count of non-empty values present in each column\n",
    "companies_lower.info()"
   ]
  },
  {
   "cell_type": "markdown",
   "metadata": {},
   "source": [
    "  "
   ]
  },
  {
   "cell_type": "markdown",
   "metadata": {},
   "source": [
    "**<ins>Note</ins>**: Only permalink and status column have values for all 66368 rows"
   ]
  },
  {
   "cell_type": "code",
   "execution_count": null,
   "metadata": {
    "trusted": true
   },
   "outputs": [],
   "source": [
    "# Check 2:\n",
    "# Count of non-empty values present in each column\n",
    "companies_lower.nunique()"
   ]
  },
  {
   "cell_type": "markdown",
   "metadata": {},
   "source": [
    "  "
   ]
  },
  {
   "cell_type": "markdown",
   "metadata": {},
   "source": [
    "**<ins>Note</ins>**: Only permalink column have 6638 uniquevalues for all 66368 rows"
   ]
  },
  {
   "cell_type": "markdown",
   "metadata": {},
   "source": [
    "**<ins><font size = 4>Solution</font></ins>**:\n",
    "---\n",
    "The column named **permalink** passes both the checks and can be used as a primary key to uniquely identify each company.\n",
    "\n",
    "(Assumption: each record in companies is representing a company)"
   ]
  },
  {
   "cell_type": "markdown",
   "metadata": {},
   "source": [
    "  "
   ]
  },
  {
   "cell_type": "markdown",
   "metadata": {},
   "source": [
    "---\n",
    "**<font size = 4>Question 4. Are there any companies in the rounds2 file which are not present in companies? Answer yes or no: Y/N</font>**\n",
    "---"
   ]
  },
  {
   "cell_type": "markdown",
   "metadata": {},
   "source": [
    "**<ins><font size = 4>Solution</font></ins>**:\n",
    "---\n",
    "Y\n",
    "\n",
    "Yes, as can be seen from the answers of question 1 and 2, data for  66370 unique companies is present in rounds 2 but in companies data for only 66368 unique companies is present. Hence there must be <ins>atleast 2</ins> companies which are present in rounds2 but not in companies. On further analyis we can see there are exactly 7 company permalink whose data is present in rounds2 but not in companies"
   ]
  },
  {
   "cell_type": "code",
   "execution_count": null,
   "metadata": {
    "trusted": true
   },
   "outputs": [],
   "source": [
    "rounds2[~rounds2_lower['company_permalink'].isin(companies_lower ['permalink'])]"
   ]
  },
  {
   "cell_type": "markdown",
   "metadata": {},
   "source": [
    "**<sup>Table 1.3 Showing the permalinks present in rounds but not in companies</sup>**"
   ]
  },
  {
   "cell_type": "code",
   "execution_count": null,
   "metadata": {
    "trusted": true
   },
   "outputs": [],
   "source": [
    "#But we can see companies with similar prefix (from table 1.3) in companies\n",
    "companies[companies.permalink.str.upper().str.contains(\"/ORGANIZATION/MAGNET-TECH-\")]"
   ]
  },
  {
   "cell_type": "markdown",
   "metadata": {},
   "source": [
    "  "
   ]
  },
  {
   "cell_type": "markdown",
   "metadata": {},
   "source": [
    "---\n",
    "<font size = 4>Question 5. Merge the two data frames so that all variables (columns) in the companies frame are added to the rounds2 data frame. Name the merged frame master_frame. How many observations are present in master_frame?</font>\n",
    "---"
   ]
  },
  {
   "cell_type": "markdown",
   "metadata": {},
   "source": [
    "**<ins>Approach</ins>**: For each dataframe, use the dataframe with lower case values of primary key column (company_permalink for rounds2 and permalink for companies) and join them to master_frame. As investment data irrespective of the company is important but companies with no investment are not crucial for this analysis, using logic rounds2 <ins>left join</ins> companies"
   ]
  },
  {
   "cell_type": "code",
   "execution_count": null,
   "metadata": {
    "trusted": true
   },
   "outputs": [],
   "source": [
    "master_frame = rounds2_lower.merge(companies_lower,how='left',left_on=['company_permalink'],right_on=['permalink'] )\n",
    "master_frame.head()"
   ]
  },
  {
   "cell_type": "code",
   "execution_count": null,
   "metadata": {
    "trusted": true
   },
   "outputs": [],
   "source": [
    "master_frame.info()"
   ]
  },
  {
   "cell_type": "markdown",
   "metadata": {},
   "source": [
    "**<font size = 4><ins>Solution</ins></font>**:\n",
    "---\n",
    "There are **1,14,949** observations present in the master_frame"
   ]
  },
  {
   "cell_type": "markdown",
   "metadata": {},
   "source": [
    " "
   ]
  },
  {
   "cell_type": "markdown",
   "metadata": {},
   "source": [
    "  "
   ]
  },
  {
   "cell_type": "markdown",
   "metadata": {},
   "source": [
    "**<font size = 4>Checkpoint 1: Expected Results</font>**"
   ]
  },
  {
   "cell_type": "markdown",
   "metadata": {},
   "source": [
    " "
   ]
  },
  {
   "cell_type": "markdown",
   "metadata": {},
   "source": [
    "|S.No|Questions| Answer     |\n",
    "|:---:|:------------|:-------------:| \n",
    "|1.|How many unique companies are present in rounds2?       | **66,370** |\n",
    "|2.|How many unique companies are<br/> present in the companies file?  | **66,367**|\n",
    "|3.|In the companies data frame, which column can be used <br/>as the unique key for each company? <br/>Write the name of the column.|**permalink** |\n",
    "|4.|Are there any companies in the rounds2 file<br/> which are not  present in companies ? |**Yes**|\n",
    "|5.|Merge the two data frames so that all  variables (columns)<br/> in the companies frame are added to the rounds2 data frame<br/>Name the merged frame master_frame. <br/> How many observations are present in master_frame ?|**1,14,949**|"
   ]
  },
  {
   "cell_type": "markdown",
   "metadata": {},
   "source": [
    " "
   ]
  },
  {
   "cell_type": "markdown",
   "metadata": {},
   "source": [
    " "
   ]
  },
  {
   "cell_type": "markdown",
   "metadata": {},
   "source": [
    "___\n",
    "#  Checkpoint 2: Funding Type Analysis\n",
    "---"
   ]
  },
  {
   "cell_type": "code",
   "execution_count": null,
   "metadata": {
    "trusted": true
   },
   "outputs": [],
   "source": [
    "print(master_frame['funding_round_type'].unique())"
   ]
  },
  {
   "cell_type": "markdown",
   "metadata": {},
   "source": [
    "*Reference*:The funding types such as seed, venture, angel, etc. depend on the type of the company (startup, corporate, etc.), its stage (early stage startup, funded startup, etc.), the amount of funding *(a few million USD to a billion USD)*, and so on. For example, seed, angel and venture are three common stages of startup funding.\n",
    "\n",
    "*Seed/angel* funding refer to *early stage* startups whereas *venture* funding occurs after seed or angel stage/s and involves a *relatively higher amount of investment*.\n",
    "*Private equity type investments* are associated with much larger companies and involve *much higher investments than venture type*. Startups which have grown in scale may also receive private equity funding. This means that if a company has reached the venture stage, it would have already passed through the angel or seed stage/s."
   ]
  },
  {
   "cell_type": "markdown",
   "metadata": {},
   "source": [
    "**<ins>Note</ins>**: funding hierarchy is as follow - seed | angel < venture < private equity"
   ]
  },
  {
   "cell_type": "markdown",
   "metadata": {},
   "source": [
    "   "
   ]
  },
  {
   "cell_type": "markdown",
   "metadata": {},
   "source": [
    "___\n",
    "### <font siz=4>2.1 Calculate the most representative value of the investment amount for each of the four funding types (venture, angel, seed, and private equity) and report the answers "
   ]
  },
  {
   "cell_type": "code",
   "execution_count": null,
   "metadata": {
    "trusted": true
   },
   "outputs": [],
   "source": [
    "# subsetting and checking the distribution and nulls for the four funding types\n",
    "selected_funding_types = ['venture','angel','seed','private_equity']\n",
    "selected_funds_master_frame = master_frame[(master_frame['funding_round_type']==selected_funding_types[0])|(master_frame['funding_round_type']==selected_funding_types[1])|(master_frame['funding_round_type']==selected_funding_types[2])|(master_frame['funding_round_type']==selected_funding_types[3])]"
   ]
  },
  {
   "cell_type": "code",
   "execution_count": null,
   "metadata": {
    "trusted": true
   },
   "outputs": [],
   "source": [
    "selected_funds_master_frame.info()"
   ]
  },
  {
   "cell_type": "code",
   "execution_count": null,
   "metadata": {
    "trusted": true
   },
   "outputs": [],
   "source": [
    "#as we can see some nulls in the above results, calculating the number of nulls for each funding type\n",
    "print(\"count of non-empty values of investments by funding type:\")\n",
    "print(selected_funds_master_frame.groupby(by='funding_round_type').agg({'funding_round_type':['count']}))\n",
    "print(\"count of nulls values of investments by funding type:\")\n",
    "selected_funds_master_frame[selected_funds_master_frame['raised_amount_usd'].isnull()].groupby(by='funding_round_type').agg({'funding_round_type':['count']})"
   ]
  },
  {
   "cell_type": "code",
   "execution_count": null,
   "metadata": {
    "trusted": true
   },
   "outputs": [],
   "source": [
    "#As we know that the amount of funding for each of these types varies significantly in general, without imputing the nulls we will miss\n",
    "# a significant amount of that funding type which is important for analysis\n",
    "#To understand the distribution better, plotting bar graph\n",
    "sns.set(style=\"whitegrid\")\n",
    "boxplot_1 = sns.boxplot(x=selected_funds_master_frame.funding_round_type, y=selected_funds_master_frame.raised_amount_usd)\n",
    "boxplot_1"
   ]
  },
  {
   "cell_type": "code",
   "execution_count": null,
   "metadata": {
    "trusted": true
   },
   "outputs": [],
   "source": [
    "#checking distribution of each funding type of importance\n",
    "fig, axes = plt.subplots(ncols=2, nrows=2,figsize=(7, 7))\n",
    "warnings.filterwarnings(\"ignore\")\n",
    "for i, ax in zip(range(0,len(selected_funding_types)), axes.flat):\n",
    "    #print(selected_funding_types[i])\n",
    "    funding = selected_funds_master_frame[selected_funds_master_frame['funding_round_type']==selected_funding_types[i]]\n",
    "    funding = funding[~funding['raised_amount_usd'].isnull()]\n",
    "    x = funding['raised_amount_usd'].astype(np.int16)\n",
    "    sns.distplot(x,bins=7,ax=ax)\n",
    "    ax.title.set_text(selected_funding_types[i])\n",
    "    \n",
    "plt.tight_layout()\n",
    "plt.show()\n"
   ]
  },
  {
   "cell_type": "markdown",
   "metadata": {},
   "source": [
    "*Plot: ditribution of investment by funding type*"
   ]
  },
  {
   "cell_type": "code",
   "execution_count": null,
   "metadata": {
    "trusted": true
   },
   "outputs": [],
   "source": [
    "# Taking into account the outliers present in data, median is more suitable value to fill the nulls\n",
    "# Hence using median of the funding type by country to impute the values, it is the most representative value of distribution\n",
    "median_lookup = selected_funds_master_frame\n",
    "median_lookup= median_lookup.groupby(['funding_round_type', 'country_code']).median()\n",
    "median_lookup.reset_index(inplace=True)\n",
    "null_investment_records_df = selected_funds_master_frame[selected_funds_master_frame.raised_amount_usd.isnull()]\n",
    "#without null in investment\n",
    "investment_records_df = selected_funds_master_frame[selected_funds_master_frame.raised_amount_usd.notnull()]\n",
    "# Now we will try to impute the values in master_amt_null\n",
    "imputed_null_df = null_investment_records_df.merge(median_lookup, on= ['funding_round_type','country_code'] ,how = 'left')\n",
    "#Normalizing and concatenating the imputed nulls and not null records together\n",
    "imputed_null_df = imputed_null_df.drop(columns= ['raised_amount_usd_x'])\n",
    "imputed_null_df = imputed_null_df.rename(columns= {\"raised_amount_usd_y\" : \"raised_amount_usd\"} )\n",
    "imputed_master_df = pd.concat([investment_records_df,imputed_null_df])\n",
    "imputed_master_df.head()"
   ]
  },
  {
   "cell_type": "code",
   "execution_count": null,
   "metadata": {
    "trusted": true
   },
   "outputs": [],
   "source": [
    "imputed_master_df.info()"
   ]
  },
  {
   "cell_type": "code",
   "execution_count": null,
   "metadata": {
    "trusted": true
   },
   "outputs": [],
   "source": [
    "#Verification: As can be most of the nulls in the investment amount are filled (exceptions are countries with no relevant data for the particular funding type)\n",
    "# Main check: after imputing with the nulls, the distribution of data has not changed\n",
    "df =imputed_master_df\n",
    "fig, axes = plt.subplots(ncols=2, nrows=2,figsize=(7, 7))\n",
    "warnings.filterwarnings(\"ignore\")\n",
    "for i, ax in zip(range(0,len(selected_funding_types)), axes.flat):\n",
    "    #print(selected_funding_types[i])\n",
    "    funding = df[df['funding_round_type']==selected_funding_types[i]]\n",
    "    funding = funding[~funding['raised_amount_usd'].isnull()]\n",
    "    x = funding['raised_amount_usd'].astype(np.int16)\n",
    "    sns.distplot(x,bins=7,ax=ax)\n",
    "    ax.title.set_text(selected_funding_types[i])\n",
    "    \n",
    "plt.tight_layout()\n",
    "plt.show()\n",
    "imputed_selected_funds_master_frame =df"
   ]
  },
  {
   "cell_type": "markdown",
   "metadata": {},
   "source": [
    "*Plot: ditribution of investment by funding type*"
   ]
  },
  {
   "cell_type": "code",
   "execution_count": null,
   "metadata": {
    "trusted": true
   },
   "outputs": [],
   "source": [
    "investment_by_funding_type_grouped = imputed_selected_funds_master_frame.groupby(['funding_round_type','country_code'])\n",
    "investment_by_funding_type = investment_by_funding_type_grouped.agg({'raised_amount_usd': [np.mean,np.median,np.max,np.min]})\n",
    "investment_by_funding_type.sort_values(by=[('raised_amount_usd','mean')],ascending = False)\n",
    "investment_by_funding_type.head()"
   ]
  },
  {
   "cell_type": "code",
   "execution_count": null,
   "metadata": {
    "trusted": true
   },
   "outputs": [],
   "source": [
    "investment_by_funding_type_grouped =imputed_selected_funds_master_frame.groupby(['funding_round_type'])\n",
    "investment_by_funding_type = investment_by_funding_type_grouped.agg({'raised_amount_usd': ['mean','median','max','min','count']})\n",
    "investment_by_funding_type.sort_values(by=[('raised_amount_usd','mean')],ascending = False)\n",
    "investment_by_funding_type"
   ]
  },
  {
   "cell_type": "code",
   "execution_count": null,
   "metadata": {
    "trusted": true
   },
   "outputs": [],
   "source": [
    "investment_by_funding_type.loc['venture',:]"
   ]
  },
  {
   "cell_type": "code",
   "execution_count": null,
   "metadata": {
    "trusted": true
   },
   "outputs": [],
   "source": [
    "# checking the distribution of investments per round having values between 5 to 15 million\n",
    "investment_limit_lower = 5000000\n",
    "investment_limit_upper = 15000000\n",
    "funds_master_frame=imputed_selected_funds_master_frame[(imputed_selected_funds_master_frame['raised_amount_usd']>=investment_limit_lower)&(imputed_selected_funds_master_frame['raised_amount_usd']<=investment_limit_upper)]\n",
    "sns.set(style=\"whitegrid\")\n",
    "boxplot_2 = sns.boxplot(x=funds_master_frame.funding_round_type, y=funds_master_frame.raised_amount_usd)\n",
    "boxplot_2"
   ]
  },
  {
   "cell_type": "markdown",
   "metadata": {},
   "source": [
    "___\n",
    "### 2.2 Based on the most representative investment amount calculated above, which investment type do you think is the most suitable for Spark Funds?"
   ]
  },
  {
   "cell_type": "markdown",
   "metadata": {},
   "source": [
    "Considering that Spark Funds wants to invest between 5 to 15 million USD per investment round, which investment type is the most suitable for it? Identify the investment type and, for further analysis, filter the data so it only contains the chosen investment type."
   ]
  },
  {
   "cell_type": "markdown",
   "metadata": {},
   "source": [
    "**<font size = 4><ins>Solution</ins></font>**:\n",
    "---\n",
    "Going by the mean values of investment in USD, only the overall mean (11,843,872.72 USD) of **venture** funding type lies within 5 to 15 million USD per investment round and it has dense distribution in the range of 5-15 million USD"
   ]
  },
  {
   "cell_type": "code",
   "execution_count": null,
   "metadata": {
    "trusted": true
   },
   "outputs": [],
   "source": [
    "for fund_type in selected_funding_types:\n",
    "    print(fund_type,end=': ')\n",
    "    print( investment_by_funding_type.loc[fund_type,('raised_amount_usd','mean')])"
   ]
  },
  {
   "cell_type": "markdown",
   "metadata": {},
   "source": [
    "**<font size = 4>Checkpoint 2: Expected Results</font>**"
   ]
  },
  {
   "cell_type": "markdown",
   "metadata": {},
   "source": [
    "|S.no.|Questions | Initial values (in USD)|After imputing nulls (in USD)\n",
    "|:---:|:--------:|:------:|:------:|\n",
    "|1.|Average funding amount of venture type|**11,748,949.13**|**11,227,199.21**|\n",
    "|2.|Average funding amount of angel type  |**958,694.47**|**868,654.10**|\n",
    "|3.|Average funding amount of seed type   |**719,818.00**|**655,354.88**|\n",
    "|4.|Average funding amount of private equity type|**73,308,593.03**|**67,502,962.62**|\n",
    "|5.|Considering that Spark Funds wants to invest<br/>between 5 to 15 million USD per  investment<br/>round, which investment type is the most <br/>suitable for them?|**venture**|**venture**|\n"
   ]
  },
  {
   "cell_type": "markdown",
   "metadata": {},
   "source": [
    " "
   ]
  },
  {
   "cell_type": "markdown",
   "metadata": {},
   "source": [
    " "
   ]
  },
  {
   "cell_type": "markdown",
   "metadata": {},
   "source": [
    "___\n",
    "#  Checkpoint 3: Country Analysis\n",
    "---"
   ]
  },
  {
   "cell_type": "markdown",
   "metadata": {},
   "source": [
    "Spark Funds wants to invest in countries with the highest amount of funding for the chosen investment type. This is a part of its broader strategy to invest where most investments are occurring."
   ]
  },
  {
   "cell_type": "markdown",
   "metadata": {},
   "source": [
    "---\n",
    "### <font size=4>3.1 Spark Funds wants to see the top nine countries which have received the highest total funding (across ALL sectors for the chosen investment type)\n"
   ]
  },
  {
   "cell_type": "code",
   "execution_count": null,
   "metadata": {
    "trusted": true
   },
   "outputs": [],
   "source": [
    "chosen_investment_type = 'venture'\n",
    "# taking only the venture investment from master frame\n",
    "selected_master_frame = imputed_selected_funds_master_frame[imputed_selected_funds_master_frame['funding_round_type']==chosen_investment_type]\n",
    "print(selected_master_frame['funding_round_type'].unique())\n",
    "print(selected_master_frame['country_code'].unique())"
   ]
  },
  {
   "cell_type": "code",
   "execution_count": null,
   "metadata": {
    "trusted": true
   },
   "outputs": [],
   "source": [
    "#\n",
    "investment_by_country = selected_master_frame.groupby(['country_code'])\n",
    "investment_by_country = investment_by_country.agg({'raised_amount_usd': ['sum','max','min','count']})\n",
    "investment_by_country = investment_by_country.sort_values(by=[('raised_amount_usd','sum')],ascending = False)\n",
    "investment_by_country.head()"
   ]
  },
  {
   "cell_type": "markdown",
   "metadata": {},
   "source": [
    "---\n",
    "### <font size =4>3.2 For the chosen investment type, make a data frame named top9 with the top nine countries (based on the total investment amount each country has received)"
   ]
  },
  {
   "cell_type": "code",
   "execution_count": null,
   "metadata": {
    "trusted": true
   },
   "outputs": [],
   "source": [
    "# choosing top 9 by total sum of investment amount\n",
    "top9= investment_by_country.nlargest(9,[('raised_amount_usd','sum')])"
   ]
  },
  {
   "cell_type": "code",
   "execution_count": null,
   "metadata": {
    "trusted": true
   },
   "outputs": [],
   "source": [
    "top9"
   ]
  },
  {
   "cell_type": "markdown",
   "metadata": {},
   "source": [
    "___\n",
    "### <font size =4> 3.3 Identify the top three English-speaking countries in the data frame top9. "
   ]
  },
  {
   "cell_type": "markdown",
   "metadata": {},
   "source": [
    "Iterating over the top 9 df in decreasing order of investment and checking if english spoken there:<br/>\n",
    "reference : https://en.wikipedia.org/wiki/List_of_territorial_entities_where_English_is_an_official_language\n",
    "    \n",
    "    USA : English is a de facto official language\n",
    "    \n",
    "    CHN : No Data (Hence non-english speaking country)\n",
    "    \n",
    "    GBR : English is a de facto official language\n",
    "    \n",
    "    IND : English is a de jure and de facto official language"
   ]
  },
  {
   "cell_type": "markdown",
   "metadata": {},
   "source": [
    "**<font size = 4>Checkpoint 3: Expected Results</font>**"
   ]
  },
  {
   "cell_type": "markdown",
   "metadata": {},
   "source": [
    "|S.no.|Questions | Answers|\n",
    "|:---:|:--------:|:------:|\n",
    " |1. |Top English-speaking country\t|**USA**|              \n",
    " |2. |Second English-speaking country|**GBR**|\t \n",
    " |3. |Third English-speaking country |**IND**| "
   ]
  },
  {
   "cell_type": "markdown",
   "metadata": {},
   "source": [
    " "
   ]
  },
  {
   "cell_type": "markdown",
   "metadata": {},
   "source": [
    " "
   ]
  },
  {
   "cell_type": "markdown",
   "metadata": {},
   "source": [
    "___\n",
    "#  Checkpoint 4: Sector Analysis 1\n",
    "---"
   ]
  },
  {
   "cell_type": "markdown",
   "metadata": {},
   "source": [
    "When we say sector analysis, we refer to one of the eight main sectors (named main_sector) listed in the mapping file (note that ‘Other’ is one of the eight main sectors). This is to simplify the analysis by grouping the numerous category lists (named ‘category_list’) in the mapping file. For example, in the mapping file, category_lists such as ‘3D’, ‘3D Printing’, ‘3D Technology’, etc. are mapped to the main sector ‘Manufacturing’.\n",
    "\n",
    "Also, for some companies, the category list is a list of multiple sub-sectors separated by a pipe (vertical bar |). For example, one of the companies’ category_list is Application Platforms|Real Time|Social Network Media.\n",
    " \n",
    "\n",
    "You discuss with the CEO and come up with the business rule that the first string before the vertical bar will be considered the primary sector. In the example above, ‘Application Platforms’ will be considered the primary sector."
   ]
  },
  {
   "cell_type": "code",
   "execution_count": null,
   "metadata": {
    "trusted": true
   },
   "outputs": [],
   "source": [
    "sector_mapping_df = pd.read_csv(mapping_path, encoding=\"ISO-8859-1\")\n",
    "# checked No category belong to more than 1 main category\n",
    "print(sector_mapping_df[sector_mapping_df.sum(axis=1)>1])\n",
    "# main category wise the count of sub categories present\n",
    "print(sector_mapping_df.sum(axis=0))\n",
    "sector_mapping_df.head()"
   ]
  },
  {
   "cell_type": "markdown",
   "metadata": {},
   "source": [
    "---\n",
    "### <font size=4>4.1 Extract the primary sector of each category list from the category_list column"
   ]
  },
  {
   "cell_type": "code",
   "execution_count": null,
   "metadata": {
    "trusted": true
   },
   "outputs": [],
   "source": [
    "selected_master_frame.dtypes"
   ]
  },
  {
   "cell_type": "code",
   "execution_count": null,
   "metadata": {
    "trusted": true
   },
   "outputs": [],
   "source": [
    "# correcting the dtypes\n",
    "selected_master_frame.astype({\n",
    "    'company_permalink': 'str',\n",
    "    'funding_round_permalink': 'str',\n",
    "    'funding_round_type': 'str',\n",
    "    'funding_round_code': 'str',\n",
    "   'funded_at':'datetime64[ns]',\n",
    "    'category_list':'str',\n",
    "    'status':'str',\n",
    "    'country_code':'str',\n",
    "'state_code':'str',\n",
    "'region':'str',\n",
    "'city':'str',\n",
    "'founded_at':'str'   \n",
    "}).dtypes"
   ]
  },
  {
   "cell_type": "code",
   "execution_count": null,
   "metadata": {
    "trusted": true
   },
   "outputs": [],
   "source": [
    "selected_master_frame.head()"
   ]
  },
  {
   "cell_type": "code",
   "execution_count": null,
   "metadata": {
    "trusted": true
   },
   "outputs": [],
   "source": [
    "primary_category_fn = lambda category_list: str(category_list).split('|')[0]\n",
    "selected_master_frame['primary_sector'] = selected_master_frame['category_list'].apply(primary_category_fn)\n",
    "selected_master_frame[['category_list','primary_sector']].head()"
   ]
  },
  {
   "cell_type": "code",
   "execution_count": null,
   "metadata": {
    "trusted": true
   },
   "outputs": [],
   "source": [
    "# reforming mapping df\n",
    "sector_mapping_df_melted = sector_mapping_df.melt(id_vars=\"category_list\",var_name=\"main_sector\")\n",
    "sector_mapping_df_melted = sector_mapping_df_melted[sector_mapping_df_melted[\"value\"]>0]\n",
    "sector_mapping_df_melted=sector_mapping_df_melted.drop(columns=\"value\")\n",
    "sector_mapping_df_melted.category_list.unique()"
   ]
  },
  {
   "cell_type": "code",
   "execution_count": null,
   "metadata": {
    "trusted": true
   },
   "outputs": [],
   "source": [
    "#As observed in the category list in place of string 'na' in the words, '0' can be seen \n",
    "# correction: As values like Enterprise 2.0 also contains 0, using regular expression\n",
    "correction = lambda x: str(x).replace(\"0\",\"na\") if (re.search(\"[^0-9\\.]0\",str(x)) != None)  or (re.search(\"\\d\\.0\",str(x)) == None) else str(x)\n",
    "sector_mapping_df_melted['category_list'] = sector_mapping_df_melted['category_list'].apply(correction).str.lower()\n",
    "sector_mapping_df_melted['category_list'].unique()"
   ]
  },
  {
   "cell_type": "code",
   "execution_count": null,
   "metadata": {
    "trusted": true
   },
   "outputs": [],
   "source": [
    "selected_master_frame['primary_sector']= selected_master_frame['primary_sector'].str.lower()\n",
    "master_frame_with_main_sector = selected_master_frame.merge(sector_mapping_df_melted,how='left',left_on='primary_sector',right_on='category_list',suffixes=('_frm_master','_frm_mapping'))"
   ]
  },
  {
   "cell_type": "code",
   "execution_count": null,
   "metadata": {
    "trusted": true
   },
   "outputs": [],
   "source": [
    "master_frame_with_main_sector.head()"
   ]
  },
  {
   "cell_type": "code",
   "execution_count": null,
   "metadata": {
    "trusted": true
   },
   "outputs": [],
   "source": [
    "master_frame_with_main_sector[(master_frame_with_main_sector['main_sector'].isnull())]['primary_sector'].unique()"
   ]
  },
  {
   "cell_type": "markdown",
   "metadata": {},
   "source": [
    "**<font size = 4>Checkpoint 4: Expected Results</font>**"
   ]
  },
  {
   "cell_type": "code",
   "execution_count": null,
   "metadata": {
    "trusted": true
   },
   "outputs": [],
   "source": [
    "#Code for a merged data frame with each primary sector mapped to its main sector (the primary sector should be present in a separate column).\n",
    "master_frame_with_main_sector\n",
    "master_frame_with_main_sector.info()"
   ]
  },
  {
   "cell_type": "markdown",
   "metadata": {},
   "source": [
    " "
   ]
  },
  {
   "cell_type": "markdown",
   "metadata": {},
   "source": [
    "___\n",
    "#  Checkpoint 5: Sector Analysis 2\n",
    "---"
   ]
  },
  {
   "cell_type": "markdown",
   "metadata": {},
   "source": [
    "Now you have a data frame with each company’s main sector (main_sector) mapped to it. When we say sector analysis, we refer to one of the *<ins>eight main sectors</ins>*.\n",
    "\n",
    "Also, you know the top three English speaking countries and the most suitable funding type for Spark Funds. Let’s call the three countries 'Country 1', 'Country 2' and 'Country 3' and the funding type 'FT'.\n",
    "\n",
    " \n",
    "\n",
    "Also, the range of funding preferred by Spark Funds is 5 to 15 million USD.\n",
    "\n",
    " \n",
    "\n",
    "Now, the aim is to **find out the most heavily invested main sectors in each of the three countries (for funding type FT and investments range of 5-15 M USD).**"
   ]
  },
  {
   "cell_type": "code",
   "execution_count": null,
   "metadata": {
    "trusted": true
   },
   "outputs": [],
   "source": [
    "# Initializing variables based on previous answers\n",
    "Country_1 = 'USA'\n",
    "Country_2 = 'GBR'\n",
    "Country_3 = 'IND'\n",
    "selected_countries = [Country_1,Country_2,Country_3]\n",
    "FT = 'venture'\n",
    "Range_lower = 5000000\n",
    "Range_upper = 15000000"
   ]
  },
  {
   "cell_type": "code",
   "execution_count": null,
   "metadata": {
    "trusted": true
   },
   "outputs": [],
   "source": [
    "#master_frame.info()"
   ]
  },
  {
   "cell_type": "code",
   "execution_count": null,
   "metadata": {
    "trusted": true
   },
   "outputs": [],
   "source": [
    "c5_master_frame = master_frame_with_main_sector[(master_frame_with_main_sector['country_code'] == Country_1) | (master_frame_with_main_sector['country_code'] == Country_2) | (master_frame_with_main_sector['country_code'] == Country_3)]\n",
    "c5_master_frame = c5_master_frame[c5_master_frame['funding_round_type']== FT]\n",
    "c5_master_frame = c5_master_frame[(c5_master_frame['raised_amount_usd']>=Range_lower) & (c5_master_frame['raised_amount_usd']<=Range_upper)]"
   ]
  },
  {
   "cell_type": "code",
   "execution_count": null,
   "metadata": {
    "trusted": true
   },
   "outputs": [],
   "source": [
    "# verifying\n",
    "print(c5_master_frame['country_code'].unique())\n",
    "print(c5_master_frame['funding_round_type'].unique())\n",
    "c5_master_frame['raised_amount_usd'].describe()"
   ]
  },
  {
   "cell_type": "code",
   "execution_count": null,
   "metadata": {
    "trusted": true
   },
   "outputs": [],
   "source": [
    "investment_by_sectors = c5_master_frame.groupby(by=['country_code','main_sector'])\n",
    "investment_by_sectors =investment_by_sectors.agg({'raised_amount_usd': ['sum','count','mean','max','min']})\n",
    "investment_by_sectors.sort_values(by=[('raised_amount_usd','sum')],ascending=False)"
   ]
  },
  {
   "cell_type": "markdown",
   "metadata": {},
   "source": [
    " "
   ]
  },
  {
   "cell_type": "markdown",
   "metadata": {},
   "source": [
    "___\n",
    "### 5.1 Create three separate data frames D1, D2 and D3 for each of the three countries containing the observations of funding type FT falling within the 5-15 million USD range. \n",
    "The three data frames should contain:\n",
    "\n",
    "1. All the columns of the master_frame along with the primary sector and the main sector\n",
    "\n",
    "2. The total number (or count) of investments for each main sector in a separate column\n",
    "\n",
    "3. The total amount invested in each main sector in a separate column"
   ]
  },
  {
   "cell_type": "code",
   "execution_count": null,
   "metadata": {
    "trusted": true
   },
   "outputs": [],
   "source": [
    "# D1\n",
    "# country_1 = 'USA'\n",
    "usa_df = c5_master_frame[c5_master_frame['country_code']=='USA']\n",
    "#count and sum by main sector\n",
    "usa_agg = usa_df.groupby('main_sector').agg({\"raised_amount_usd\": [\"count\",\"sum\"]}).sort_values((\"raised_amount_usd\",\"sum\"), ascending = False)\n",
    "usa_agg"
   ]
  },
  {
   "cell_type": "code",
   "execution_count": null,
   "metadata": {
    "trusted": true
   },
   "outputs": [],
   "source": [
    "D1 = usa_df.merge(usa_agg,how='left', on='main_sector')\n",
    "D1.rename(columns = {('raised_amount_usd', 'count'):'total_no_of_investment_by_sector',\n",
    "                    ('raised_amount_usd', 'sum'): 'total_amount_invested_by_sector'}, inplace = True)\n",
    "D1"
   ]
  },
  {
   "cell_type": "code",
   "execution_count": null,
   "metadata": {
    "trusted": true
   },
   "outputs": [],
   "source": [
    "# D2\n",
    "# country_2 = 'GBR'\n",
    "gbr_df = c5_master_frame[c5_master_frame['country_code']=='GBR']\n",
    "#count and sum by main sector\n",
    "gbr_agg = gbr_df.groupby('main_sector').agg({\"raised_amount_usd\": [\"count\",\"sum\"]}).sort_values((\"raised_amount_usd\",\"sum\"), ascending = False)\n",
    "gbr_agg"
   ]
  },
  {
   "cell_type": "code",
   "execution_count": null,
   "metadata": {
    "trusted": true
   },
   "outputs": [],
   "source": [
    "D2 = gbr_df.merge(gbr_agg,how='left', on='main_sector')\n",
    "D2.rename(columns = {('raised_amount_usd', 'count'):'total_no_of_investment_by_sector',\n",
    "                    ('raised_amount_usd', 'sum'): 'total_amount_invested_by_sector'}, inplace = True)\n",
    "D2"
   ]
  },
  {
   "cell_type": "code",
   "execution_count": null,
   "metadata": {
    "trusted": true
   },
   "outputs": [],
   "source": [
    "# D3\n",
    "# country_2 = 'IND'\n",
    "ind_df = c5_master_frame[c5_master_frame['country_code']=='IND']\n",
    "#count and sum by main sector\n",
    "ind_agg = ind_df.groupby('main_sector').agg({\"raised_amount_usd\": [\"count\",\"sum\"]}).sort_values((\"raised_amount_usd\",\"sum\"), ascending = False)\n",
    "ind_agg"
   ]
  },
  {
   "cell_type": "code",
   "execution_count": null,
   "metadata": {
    "trusted": true
   },
   "outputs": [],
   "source": [
    "D3 = ind_df.merge(ind_agg,how='left', on='main_sector')\n",
    "D3.rename(columns = {('raised_amount_usd', 'count'):'total_no_of_investment_by_sector',\n",
    "                    ('raised_amount_usd', 'sum'): 'total_amount_invested_by_sector'}, inplace = True)\n",
    "D3"
   ]
  },
  {
   "cell_type": "markdown",
   "metadata": {},
   "source": [
    "  "
   ]
  },
  {
   "cell_type": "markdown",
   "metadata": {},
   "source": [
    "___\n",
    "### 5.2 Using the three data frames, you can calculate the total number and amount of investments in each main sector."
   ]
  },
  {
   "cell_type": "code",
   "execution_count": null,
   "metadata": {
    "trusted": true
   },
   "outputs": [],
   "source": [
    "top_countries = ['USA','GBR','IND']\n",
    "D = [D1,D2,D3]"
   ]
  },
  {
   "cell_type": "markdown",
   "metadata": {},
   "source": [
    "---\n",
    "## Q1. Total number of investments (count)"
   ]
  },
  {
   "cell_type": "code",
   "execution_count": null,
   "metadata": {
    "trusted": true
   },
   "outputs": [],
   "source": [
    "for i in range(0,3):\n",
    "    print('\\n'+top_countries[i])\n",
    "    print(D[i].nunique().funding_round_permalink)"
   ]
  },
  {
   "cell_type": "markdown",
   "metadata": {},
   "source": [
    "---\n",
    "## Q2. Total amount of investments "
   ]
  },
  {
   "cell_type": "code",
   "execution_count": null,
   "metadata": {
    "trusted": true
   },
   "outputs": [],
   "source": [
    "for i in range(0,3):\n",
    "    print('\\n'+top_countries[i])\n",
    "    print(D[i]['raised_amount_usd'].sum())"
   ]
  },
  {
   "cell_type": "markdown",
   "metadata": {},
   "source": [
    "---\n",
    "## Q3. Top sector (based on count of investments)"
   ]
  },
  {
   "cell_type": "code",
   "execution_count": null,
   "metadata": {
    "trusted": true
   },
   "outputs": [],
   "source": [
    "for i in range(0,3):\n",
    "    print('\\n'+top_countries[i])\n",
    "    print(D[i][D[i].total_no_of_investment_by_sector == D[i].total_no_of_investment_by_sector.max()]['main_sector'].unique())"
   ]
  },
  {
   "cell_type": "markdown",
   "metadata": {},
   "source": [
    "---\n",
    "### Q4-8"
   ]
  },
  {
   "cell_type": "code",
   "execution_count": null,
   "metadata": {
    "trusted": true
   },
   "outputs": [],
   "source": [
    "top_3_sector_by_company = {}\n",
    "for i in range(0,3):\n",
    "    print('\\n\\n'+top_countries[i])\n",
    "    top_3_sector_by_company[top_countries[i]] = D[i][['main_sector','total_no_of_investment_by_sector','total_amount_invested_by_sector']].drop_duplicates().sort_values(by='total_no_of_investment_by_sector',ascending=False).head(3)\n",
    "    print(top_3_sector_by_company[top_countries[i]])\n",
    "    "
   ]
  },
  {
   "cell_type": "markdown",
   "metadata": {},
   "source": [
    "---\n",
    "### 9. For the top sector count-wise (point 3), which company received the highest investment?"
   ]
  },
  {
   "cell_type": "code",
   "execution_count": null,
   "metadata": {
    "trusted": true
   },
   "outputs": [],
   "source": [
    "top_sector_by_count = 'Others'"
   ]
  },
  {
   "cell_type": "code",
   "execution_count": null,
   "metadata": {
    "trusted": true
   },
   "outputs": [],
   "source": [
    "print(\"Top company for the top sector (by count): \"+top_sector_by_count)\n",
    "for i in range(0,3):\n",
    "    print('\\n\\n'+top_countries[i])\n",
    "    top_sector_subset = D[i][D[i]['main_sector']==top_sector_by_count]\n",
    "    top_sector_subset = top_sector_subset[['company_permalink','raised_amount_usd']]\n",
    "    top_sector_subset_grouped = top_sector_subset.groupby('company_permalink').sum()\n",
    "    top_company = top_sector_subset_grouped[top_sector_subset_grouped.raised_amount_usd==top_sector_subset_grouped.raised_amount_usd.max()]\n",
    "    print(top_company)"
   ]
  },
  {
   "cell_type": "markdown",
   "metadata": {},
   "source": [
    "---\n",
    "### 10. For the second-best sector count-wise (point 4), which company received the highest investment?"
   ]
  },
  {
   "cell_type": "code",
   "execution_count": null,
   "metadata": {
    "trusted": true
   },
   "outputs": [],
   "source": [
    "second_best_sector_by_count ='Social, Finance, Analytics, Advertising'\n",
    "print(\"Top company for the second best sector (by count): \"+second_best_sector_by_count)\n",
    "for i in range(0,3):\n",
    "    print('\\n\\n'+top_countries[i])\n",
    "    sector_subset = D[i][D[i]['main_sector']==second_best_sector_by_count]\n",
    "    sector_subset = sector_subset[['company_permalink','raised_amount_usd']]\n",
    "    sector_subset_grouped = sector_subset.groupby('company_permalink').sum()\n",
    "    top_company = sector_subset_grouped[sector_subset_grouped.raised_amount_usd==sector_subset_grouped.raised_amount_usd.max()]\n",
    "    print(top_company)"
   ]
  },
  {
   "cell_type": "markdown",
   "metadata": {},
   "source": [
    "  "
   ]
  },
  {
   "cell_type": "markdown",
   "metadata": {},
   "source": [
    " "
   ]
  },
  {
   "cell_type": "markdown",
   "metadata": {},
   "source": [
    "___\n",
    "#  Checkpoint 6: Plots\n",
    "---"
   ]
  },
  {
   "cell_type": "markdown",
   "metadata": {},
   "source": [
    "1. A plot showing the fraction of total investments (globally) in angel, venture, seed, and private equity, and the average amount of investment in each funding type. This chart should make it clear that a certain funding type (FT) is best suited for Spark Funds.\n",
    "\n",
    "2. A plot showing the top 9 countries against the total amount of investments of funding type FT. This should make the top 3 countries (Country 1, Country 2, and Country 3) very clear.\n",
    "\n",
    "3. A plot showing the number of investments in the top 3 sectors of the top 3 countries on one chart (for the chosen investment type FT). "
   ]
  },
  {
   "cell_type": "markdown",
   "metadata": {},
   "source": [
    "---\n",
    "## Q1. A plot showing the fraction of total investments (globally) in angel, venture, seed, and private equity, and the average amount of investment in each funding type. This chart should make it clear that a certain funding type (FT) is best suited for Spark Funds."
   ]
  },
  {
   "cell_type": "code",
   "execution_count": null,
   "metadata": {
    "trusted": true
   },
   "outputs": [],
   "source": [
    "#taking global(all countries all sectors) maaster frame with selected funding types\n",
    "fund_type_df =selected_funds_master_frame.groupby('funding_round_type').agg({'raised_amount_usd':['sum','mean']})\n",
    "# fund_type_df['overall_total'] = fund_type_df[('raised_amount_usd','sum')].sum()\n",
    "# fund_type_df['perc_share'] = (fund_type_df[('raised_amount_usd','sum')]/fund_type_df['overall_total'])*100\n",
    "#fund_type_df.reset_index()\n",
    "fund_type_df"
   ]
  },
  {
   "cell_type": "code",
   "execution_count": null,
   "metadata": {
    "trusted": true
   },
   "outputs": [],
   "source": [
    "share_plot = fund_type_df.plot.pie(y=('raised_amount_usd','sum'),autopct='%.1f%%',legend=True,use_index=True,title='Funding Type by Percentage Share Global', textprops={'fontsize': 14}, figsize=(8.5,8.5))\n",
    "share_plot.set_xlabel(\"\")\n",
    "share_plot.set_ylabel(\"\")\n",
    "share_plot.legend(title=\"Funding Type\")\n"
   ]
  },
  {
   "cell_type": "code",
   "execution_count": null,
   "metadata": {
    "trusted": true
   },
   "outputs": [],
   "source": [
    "avg_plot = fund_type_df[[('raised_amount_usd','mean')]].plot.bar(legend=False,logy=True,title=\"Average Investment by Fund Type\",figsize=(10,7))\n",
    "avg_plot.set_xlabel(\"Funding Round Type\")\n",
    "avg_plot.set_ylabel(\"Average Investment in USD (At log scale)\")\n",
    "avg_plot.axhline( y=5000000, xmin=0, xmax=1,color='k', linestyle='--')\n",
    "avg_plot.text(-0.20,5000000, \"Lower Limit (5 million USD)\")\n",
    "avg_plot.axhline( y=15000000, xmin=0, xmax=1,color='k', linestyle='--')\n",
    "avg_plot.text(-0.20,15000000, \"Upper Limit (15 million USD)\")\n"
   ]
  },
  {
   "cell_type": "markdown",
   "metadata": {},
   "source": [
    "Assumption: Mean is the  most representative of the data distribution"
   ]
  },
  {
   "cell_type": "markdown",
   "metadata": {},
   "source": [
    "---\n",
    "## Q2. A plot showing the top 9 countries against the total amount of investments of funding type FT. This should make the top 3 countries (Country 1, Country 2, and Country 3) very clear."
   ]
  },
  {
   "cell_type": "code",
   "execution_count": null,
   "metadata": {
    "trusted": true
   },
   "outputs": [],
   "source": [
    "top9.head()\n",
    "#df for checkpoint 6 question 2\n",
    "c6_q2 = pd.DataFrame(index=top9.index, columns=['sum_invested','english_speaking'])\n",
    "c6_q2['sum_invested'] = top9[('raised_amount_usd','sum')]\n",
    "c6_q2['english_speaking'] = ['Yes','No','Yes','Yes','Yes','No','Yes','No','No']\n",
    "c6_q2"
   ]
  },
  {
   "cell_type": "code",
   "execution_count": null,
   "metadata": {
    "trusted": true
   },
   "outputs": [],
   "source": [
    "colors = {'Yes': 'b', 'No': 'r'}\n",
    "top9_plot = c6_q2['sum_invested'].plot(kind='bar',logy=True,title=\"Investment by Top 9 countries\", color=[colors[i] for i in c6_q2['english_speaking']])\n",
    "top9_plot.set_xlabel(\"Top 9 Countries\")\n",
    "top9_plot.set_ylabel(\"Investment (At log scale)\")"
   ]
  },
  {
   "cell_type": "markdown",
   "metadata": {},
   "source": [
    "##### Plot 2. Investment by countries (red color depicts non-english speaking countries)"
   ]
  },
  {
   "cell_type": "markdown",
   "metadata": {},
   "source": [
    "Assumptions: \n",
    "1. Top countires are one with highest sum invested in selected funding type (Venture)\n",
    "2. Venture is the most suitable funding type considering the budget    "
   ]
  },
  {
   "cell_type": "markdown",
   "metadata": {},
   "source": [
    "---\n",
    "## Q3.A plot showing the number of investments in the top 3 sectors of the top 3 countries on one chart (for the chosen investment type FT).\n",
    "FT= 'venture'"
   ]
  },
  {
   "cell_type": "code",
   "execution_count": null,
   "metadata": {
    "trusted": true
   },
   "outputs": [],
   "source": [
    "#adding country to df\n",
    "for key,item in top_3_sector_by_company.items():\n",
    "    top_3_sector_by_company[key]['country_code'] = key\n"
   ]
  },
  {
   "cell_type": "code",
   "execution_count": null,
   "metadata": {
    "trusted": true
   },
   "outputs": [],
   "source": [
    "#concatenating all top3 countries df having top 3 sectors\n",
    "top_3_sector_by_country_all =  pd.concat([top_3_sector_by_company['USA'], top_3_sector_by_company['GBR'],top_3_sector_by_company['IND']],axis=0)\n",
    "top_3_sector_by_country_all.head()"
   ]
  },
  {
   "cell_type": "code",
   "execution_count": null,
   "metadata": {
    "trusted": true
   },
   "outputs": [],
   "source": [
    "#Plot\n",
    "top_sectors_plot = sns.barplot(x='country_code', y='total_amount_invested_by_sector', hue='main_sector', data=top_3_sector_by_country_all)\n",
    "plt.ylabel('Investment in USD (log scale)')\n",
    "plt.xlabel('country code')\n",
    "plt.title('Top 3 sectors of Top 3 countries')\n",
    "# Put the legend out of the figure\n",
    "plt.legend(bbox_to_anchor=(1.05, 1), loc=2, borderaxespad=0.)\n",
    "top_sectors_plot.set_yscale(\"log\")"
   ]
  },
  {
   "cell_type": "markdown",
   "metadata": {},
   "source": [
    "---\n",
    "                                                         End of Assignment\n",
    "---"
   ]
  }
 ],
 "metadata": {
  "kaggle": {
   "accelerator": "none",
   "dataSources": [
    {
     "datasetId": 335068,
     "sourceId": 666898,
     "sourceType": "datasetVersion"
    }
   ],
   "dockerImageVersionId": 30019,
   "isGpuEnabled": false,
   "isInternetEnabled": true,
   "language": "python",
   "sourceType": "notebook"
  },
  "kernelspec": {
   "display_name": "Python 3",
   "language": "python",
   "name": "python3"
  },
  "language_info": {
   "codemirror_mode": {
    "name": "ipython",
    "version": 3
   },
   "file_extension": ".py",
   "mimetype": "text/x-python",
   "name": "python",
   "nbconvert_exporter": "python",
   "pygments_lexer": "ipython3",
   "version": "3.6.4"
  }
 },
 "nbformat": 4,
 "nbformat_minor": 4
}
